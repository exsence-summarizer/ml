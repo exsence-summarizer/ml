{
 "cells": [
  {
   "cell_type": "code",
   "execution_count": 10,
   "metadata": {},
   "outputs": [],
   "source": [
    "import nltk\n",
    "from nltk.corpus import stopwords\n",
    "from nltk.tokenize import word_tokenize, sent_tokenize"
   ]
  },
  {
   "cell_type": "code",
   "execution_count": 11,
   "metadata": {},
   "outputs": [],
   "source": [
    "text = \"\"\"Levitt had spent a brief period at Harvard as an ROTC instructor; he returned there as a law student in 1919 and received his LL.B. the following year.[1] As well as studying law, he served as minister to the Harvard Unitarian Society.[8] While at Harvard, he came to view Dean Roscoe Pound as his mentor, and, in part due to his romantic relationship with women's rights activist Elsie Hill, became affiliated with the National Woman's Party (NWP). Women's rights leader Alice Paul consulted both Pound and Levitt in drafting what became known as the Equal Rights Amendment (ERA) to give equality to women without eroding special protections. Pound was willing to help, so long as his involvement was not publicized. Levitt, seeking to avoid conflict with existing laws protecting women, drafted at least 75 versions of the ERA for Paul. He also consulted with future Supreme Court justice Felix Frankfurter, who was then counsel to the Washington, D.C., Minimum Wage Board. Frankfurter commented on several drafts, feeling that any version of the ERA would have the side effect of eviscerating current legal protections for women. Levitt attempted to change Frankfurter's mind, but was unsuccessful. He wrote to Paul, \"The net result of the interview is nothing.\"[9]\n",
    "\n",
    "Although both Pound and Frankfurter had given Levitt advice on condition that their names not be used, NWP activists incorrectly claimed that the two had approved the text of the ERA as suitable for either legislation or constitutional amendment. Levitt apologized to both, and wrote Paul that he could no longer consult anyone he trusted about the ERA for fear of being betrayed again. Nevertheless, influenced by Hill, he continued his work for Paul until the end of 1921.[9] On December 24, 1921, by now working at the University of North Dakota, he married Hill in Chicago. With Levitt's duties keeping him in North Dakota, and Hill's keeping her in Washington, they planned to spend time together in the summer in her native Connecticut,[10] but otherwise initially planned to live apart, both being busy with their own careers.[11] The wedding was confidential, known only to a few friends and associates, until the matter became public the following month.[12] Levitt proclaimed himself the luckiest man in the world, lucky because he had married a feminist, who would not allow the husband to be a czar\"\"\"\n",
    "\n",
    "stopWords = set(stopwords.words(\"english\"))\n",
    "words = word_tokenize(text)"
   ]
  },
  {
   "cell_type": "code",
   "execution_count": 12,
   "metadata": {},
   "outputs": [
    {
     "data": {
      "text/plain": [
       "{'patient': 1,\n",
       " 'diagnosed': 1,\n",
       " 'type': 1,\n",
       " '1': 1,\n",
       " 'diabetes': 1,\n",
       " ',': 2,\n",
       " 'autoimmune': 1,\n",
       " 'condition': 1,\n",
       " 'characterized': 1,\n",
       " 'body': 1,\n",
       " \"'s\": 1,\n",
       " 'inability': 1,\n",
       " 'produce': 1,\n",
       " 'insulin': 1,\n",
       " 'resulting': 1,\n",
       " 'high': 1,\n",
       " 'blood': 1,\n",
       " 'sugar': 1,\n",
       " 'levels': 1,\n",
       " '.': 1}"
      ]
     },
     "execution_count": 12,
     "metadata": {},
     "output_type": "execute_result"
    }
   ],
   "source": [
    "freqTable = dict()\n",
    "for word in words:\n",
    "    word = word.lower()\n",
    "    if word in stopWords:\n",
    "        continue\n",
    "    if word in freqTable:\n",
    "        freqTable[word] += 1\n",
    "    else:\n",
    "        freqTable[word] = 1\n",
    "freqTable"
   ]
  },
  {
   "cell_type": "code",
   "execution_count": 13,
   "metadata": {},
   "outputs": [],
   "source": [
    "sentences = sent_tokenize(text)\n",
    "sentenceValue = dict()\n",
    "\n",
    "for sentence in sentences:\n",
    "    for word, freq in freqTable.items():\n",
    "        if word in sentence.lower():\n",
    "            if sentence in sentenceValue:\n",
    "                sentenceValue[sentence] += freq\n",
    "            else:\n",
    "                sentenceValue[sentence] = freq\n",
    "\n",
    "sumValues = 0\n",
    "for sentence in sentenceValue:\n",
    "    sumValues += sentenceValue[sentence]"
   ]
  },
  {
   "cell_type": "code",
   "execution_count": 14,
   "metadata": {},
   "outputs": [],
   "source": [
    "average = int(sumValues / len(sentenceValue))\n",
    "\n"
   ]
  },
  {
   "cell_type": "code",
   "execution_count": 15,
   "metadata": {},
   "outputs": [
    {
     "name": "stdout",
     "output_type": "stream",
     "text": [
      "\n"
     ]
    }
   ],
   "source": [
    "summary = ''\n",
    "\n",
    "for sentence in sentences:\n",
    "    if (sentence in sentenceValue) and (sentenceValue[sentence] > (1.2 * average)):\n",
    "        summary += \" \" + sentence\n",
    "\n",
    "print(summary)\n"
   ]
  },
  {
   "cell_type": "code",
   "execution_count": null,
   "metadata": {},
   "outputs": [],
   "source": []
  },
  {
   "cell_type": "code",
   "execution_count": null,
   "metadata": {},
   "outputs": [],
   "source": []
  }
 ],
 "metadata": {
  "kernelspec": {
   "display_name": "Python 3",
   "language": "python",
   "name": "python3"
  },
  "language_info": {
   "codemirror_mode": {
    "name": "ipython",
    "version": 3
   },
   "file_extension": ".py",
   "mimetype": "text/x-python",
   "name": "python",
   "nbconvert_exporter": "python",
   "pygments_lexer": "ipython3",
   "version": "3.11.3"
  },
  "orig_nbformat": 4
 },
 "nbformat": 4,
 "nbformat_minor": 2
}
